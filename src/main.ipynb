{
 "cells": [
  {
   "cell_type": "markdown",
   "source": [
    "# Siuuuu!!! (title)\n",
    "## Imports"
   ],
   "metadata": {
    "collapsed": false,
    "pycharm": {
     "name": "#%% md\n"
    }
   }
  },
  {
   "cell_type": "code",
   "execution_count": 1,
   "metadata": {},
   "outputs": [],
   "source": [
    "# Model design\n",
    "import agentpy as ap\n",
    "\n",
    "# Visualization\n",
    "import matplotlib.pyplot as plt\n",
    "import matplotlib.animation\n",
    "import IPython\n",
    "import numpy as np\n",
    "\n",
    "from City import City, Direction\n",
    "from TrafficLightAgent import LightColor\n",
    "from CityModel import CityModel"
   ]
  },
  {
   "cell_type": "markdown",
   "metadata": {},
   "source": [
    "## Single Run Animation\n",
    "### Define city"
   ]
  },
  {
   "cell_type": "code",
   "execution_count": 3,
   "metadata": {},
   "outputs": [],
   "source": [
    "size = (20, 20)\n",
    "city = City(*size)\n",
    "city.add_street((4, 0), (4, size[0]), Direction.RIGHT)\n",
    "city.add_street((8, 0), (8, size[0]), Direction.LEFT)\n",
    "city.add_street((0, 4), (size[0], 4), Direction.UP)\n",
    "city.add_street((0, 8), (size[0], 8), Direction.DOWN)\n",
    "city.add_street((0, 12), (size[0], 12), Direction.UP)\n",
    "city.add_street((0, 16), (size[0], 16), Direction.DOWN)\n",
    "\n",
    "# Define parameters\n",
    "parameters = {\n",
    "    \"size\": size,\n",
    "    \"city\": city,\n",
    "    \"cars\": 8,\n",
    "    \"spawn_points\": [(4, 0), (8, 19), (19, 4), (19, 8), (19, 12), (19, 16)],\n",
    "    \"steps\": 40\n",
    "}"
   ]
  },
  {
   "cell_type": "markdown",
   "metadata": {
    "pycharm": {
     "name": "#%% md\n"
    },
    "scrolled": true
   },
   "source": [
    "### Create single-run animation with custom colors"
   ]
  },
  {
   "cell_type": "code",
   "execution_count": null,
   "outputs": [],
   "source": [
    "def map_agent_to_number(agents: ap.AgentIter):\n",
    "    agent: ap.Agent\n",
    "    road_exists = False\n",
    "    for agent in agents:\n",
    "        if agent.type == 'TrafficLightAgent':\n",
    "            if agent.get_current_light() == LightColor.GREEN:\n",
    "                return 2\n",
    "            elif agent.get_current_light() == LightColor.YELLOW:\n",
    "                return 3\n",
    "            else:\n",
    "                return 4\n",
    "        if agent.type == 'CarAgent':\n",
    "            return 1\n",
    "        if agent.type == 'RoadAgent':\n",
    "            road_exists = True\n",
    "    if road_exists:  # There is road and no cars\n",
    "        return 0\n",
    "    return np.nan  # There are no agents in that position, use numpy.nan instead of None\n",
    "\n",
    "def animation_plot(model, ax):\n",
    "    attr_grid = model.grid.apply(map_agent_to_number)  # apply(map_agent_to_number)\n",
    "    color_dict = {\n",
    "        0: '#7777',\n",
    "        1: '#d62c2c',\n",
    "        2: '#00ff00',\n",
    "        3: '#ffff00',\n",
    "        4: '#ff0000',\n",
    "        None: '#d5e5d5'\n",
    "    }\n",
    "    ap.gridplot(attr_grid, color_dict, True, ax)\n",
    "    ax.set_title(f\"Simulation of a city\\n\"\n",
    "                 f\"Time-step: {model.t}\")\n",
    "\n",
    "fig, ax = plt.subplots()\n",
    "city_model = CityModel(parameters)\n",
    "animation = ap.animate(city_model, fig, ax, animation_plot)\n",
    "IPython.display.HTML(animation.to_jshtml(fps=15))"
   ],
   "metadata": {
    "collapsed": false,
    "pycharm": {
     "name": "#%%\n"
    }
   }
  }
 ],
 "metadata": {
  "interpreter": {
   "hash": "76456c7cbf9365bafbb384226fda8427e843b47cf7bde78be0b8fb17387bbdce"
  },
  "kernelspec": {
   "display_name": "Python 3",
   "language": "python",
   "name": "python3"
  },
  "language_info": {
   "codemirror_mode": {
    "name": "ipython",
    "version": 3
   },
   "file_extension": ".py",
   "mimetype": "text/x-python",
   "name": "python",
   "nbconvert_exporter": "python",
   "pygments_lexer": "ipython3",
   "version": "3.9.2"
  }
 },
 "nbformat": 4,
 "nbformat_minor": 2
}