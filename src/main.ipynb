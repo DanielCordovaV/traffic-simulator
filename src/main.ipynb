{
 "cells": [
  {
   "cell_type": "code",
   "execution_count": 13,
   "metadata": {},
   "outputs": [],
   "source": [
    "# Model design\n",
    "import agentpy as ap\n",
    "from random import choice\n",
    "\n",
    "# Visualization\n",
    "import matplotlib.pyplot as plt\n",
    "import IPython\n",
    "\n",
    "import RoadAgent\n",
    "from City import City, Road\n",
    "from City import Direction\n",
    "import CarAgent"
   ]
  },
  {
   "cell_type": "code",
   "execution_count": 14,
   "metadata": {},
   "outputs": [],
   "source": [
    "class CityModel(ap.Model):\n",
    "    @staticmethod\n",
    "    def __get_positions(grid: list[list]) -> list[tuple[int, int]]:\n",
    "        positions = []\n",
    "        for i, column in enumerate(grid):\n",
    "            for j, space in enumerate(column):\n",
    "                if type(space) is Road:\n",
    "                    positions.append((i, j))\n",
    "        return positions\n",
    "\n",
    "    def setup(self):\n",
    "        # Unpack parameters\n",
    "        self.city: City = self.p[\"city\"]\n",
    "        self.n_cars: int = self.p[\"cars\"]\n",
    "        self.spawn_points: list[tuple[int]] = self.p[\"spawn_points\"]\n",
    "        self.size: tuple[int] = self.p[\"size\"]\n",
    "\n",
    "        # Create grid (city)\n",
    "        self.grid = ap.Grid(self, size, track_empty=True)\n",
    "\n",
    "        # Create agents\n",
    "        roads = ap.AgentList(self, city.amount_of_roads, RoadAgent)\n",
    "        road_positions = self.__get_positions(self.city.grid)\n",
    "        self.grid.add_agents(roads, road_positions)\n",
    "        for road in self.grid.agents:\n",
    "            position = self.grid.positions[road]\n",
    "            x, y = position\n",
    "            road.add_directions(self.city.grid[x][y].directions)\n",
    "\n",
    "        cars = ap.AgentList(self, self.n_cars, CarAgent)\n",
    "        self.grid.add_agents(cars, positions=[choice(self.spawn_points) for _ in range(self.n_cars)])\n",
    "\n",
    "    def step(self):\n",
    "        for agent in self.agents:\n",
    "            if agent.type is CarAgent:\n",
    "                agent.move()\n",
    "\n",
    "    def update(self):\n",
    "        pass\n",
    "\n",
    "    def end(self):\n",
    "        pass"
   ]
  },
  {
   "cell_type": "markdown",
   "metadata": {},
   "source": [
    "## Single Run Animation"
   ]
  },
  {
   "cell_type": "code",
   "execution_count": 15,
   "metadata": {},
   "outputs": [],
   "source": [
    "# Define parameters\n",
    "\n",
    "# time in s\n",
    "\n",
    "size = (10, 10)\n",
    "city = City(size[0], size[1])\n",
    "city.add_street((4, 4), (4, 10), Direction.RIGHT)\n",
    "city.add_street((0, 4), (10, 4), Direction.UP)\n",
    "\n",
    "parameters = {\n",
    "    \"size\": size,\n",
    "    \"city\": city,\n",
    "    \"cars\": 10,\n",
    "    \"spawn_points\": [(0, 4), (4, 0)],\n",
    "    \"steps\": 20\n",
    "}"
   ]
  },
  {
   "cell_type": "code",
   "execution_count": 16,
   "metadata": {},
   "outputs": [
    {
     "ename": "TypeError",
     "evalue": "'module' object is not callable",
     "output_type": "error",
     "traceback": [
      "\u001B[1;31m---------------------------------------------------------------------------\u001B[0m",
      "\u001B[1;31mTypeError\u001B[0m                                 Traceback (most recent call last)",
      "\u001B[1;32m<ipython-input-16-fbc41c5d0615>\u001B[0m in \u001B[0;36m<module>\u001B[1;34m\u001B[0m\n\u001B[0;32m     25\u001B[0m \u001B[0mfig\u001B[0m\u001B[1;33m,\u001B[0m \u001B[0max\u001B[0m \u001B[1;33m=\u001B[0m \u001B[0mplt\u001B[0m\u001B[1;33m.\u001B[0m\u001B[0msubplots\u001B[0m\u001B[1;33m(\u001B[0m\u001B[1;33m)\u001B[0m\u001B[1;33m\u001B[0m\u001B[1;33m\u001B[0m\u001B[0m\n\u001B[0;32m     26\u001B[0m \u001B[0mcity_model\u001B[0m \u001B[1;33m=\u001B[0m \u001B[0mCityModel\u001B[0m\u001B[1;33m(\u001B[0m\u001B[0mparameters\u001B[0m\u001B[1;33m)\u001B[0m\u001B[1;33m\u001B[0m\u001B[1;33m\u001B[0m\u001B[0m\n\u001B[1;32m---> 27\u001B[1;33m \u001B[0manimation\u001B[0m \u001B[1;33m=\u001B[0m \u001B[0map\u001B[0m\u001B[1;33m.\u001B[0m\u001B[0manimate\u001B[0m\u001B[1;33m(\u001B[0m\u001B[0mcity_model\u001B[0m\u001B[1;33m,\u001B[0m \u001B[0mfig\u001B[0m\u001B[1;33m,\u001B[0m \u001B[0max\u001B[0m\u001B[1;33m,\u001B[0m \u001B[0manimation_plot\u001B[0m\u001B[1;33m)\u001B[0m\u001B[1;33m\u001B[0m\u001B[1;33m\u001B[0m\u001B[0m\n\u001B[0m\u001B[0;32m     28\u001B[0m \u001B[0mIPython\u001B[0m\u001B[1;33m.\u001B[0m\u001B[0mdisplay\u001B[0m\u001B[1;33m.\u001B[0m\u001B[0mHTML\u001B[0m\u001B[1;33m(\u001B[0m\u001B[0manimation\u001B[0m\u001B[1;33m.\u001B[0m\u001B[0mto_jshtml\u001B[0m\u001B[1;33m(\u001B[0m\u001B[0mfps\u001B[0m\u001B[1;33m=\u001B[0m\u001B[1;36m15\u001B[0m\u001B[1;33m)\u001B[0m\u001B[1;33m)\u001B[0m\u001B[1;33m\u001B[0m\u001B[1;33m\u001B[0m\u001B[0m\n",
      "\u001B[1;32mc:\\users\\liu_k\\appdata\\local\\programs\\python\\python39\\lib\\site-packages\\agentpy\\visualization.py\u001B[0m in \u001B[0;36manimate\u001B[1;34m(model, fig, axs, plot, steps, seed, skip, fargs, **kwargs)\u001B[0m\n\u001B[0;32m     54\u001B[0m     \"\"\"\n\u001B[0;32m     55\u001B[0m \u001B[1;33m\u001B[0m\u001B[0m\n\u001B[1;32m---> 56\u001B[1;33m     \u001B[0mmodel\u001B[0m\u001B[1;33m.\u001B[0m\u001B[0msim_setup\u001B[0m\u001B[1;33m(\u001B[0m\u001B[0msteps\u001B[0m\u001B[1;33m,\u001B[0m \u001B[0mseed\u001B[0m\u001B[1;33m)\u001B[0m\u001B[1;33m\u001B[0m\u001B[1;33m\u001B[0m\u001B[0m\n\u001B[0m\u001B[0;32m     57\u001B[0m     \u001B[0mmodel\u001B[0m\u001B[1;33m.\u001B[0m\u001B[0mcreate_output\u001B[0m\u001B[1;33m(\u001B[0m\u001B[1;33m)\u001B[0m\u001B[1;33m\u001B[0m\u001B[1;33m\u001B[0m\u001B[0m\n\u001B[0;32m     58\u001B[0m     \u001B[0mpre_steps\u001B[0m \u001B[1;33m=\u001B[0m \u001B[1;36m0\u001B[0m\u001B[1;33m\u001B[0m\u001B[1;33m\u001B[0m\u001B[0m\n",
      "\u001B[1;32mc:\\users\\liu_k\\appdata\\local\\programs\\python\\python39\\lib\\site-packages\\agentpy\\model.py\u001B[0m in \u001B[0;36msim_setup\u001B[1;34m(self, steps, seed)\u001B[0m\n\u001B[0;32m    313\u001B[0m \u001B[1;33m\u001B[0m\u001B[0m\n\u001B[0;32m    314\u001B[0m         \u001B[1;31m# Execute setup and first update\u001B[0m\u001B[1;33m\u001B[0m\u001B[1;33m\u001B[0m\u001B[1;33m\u001B[0m\u001B[0m\n\u001B[1;32m--> 315\u001B[1;33m         \u001B[0mself\u001B[0m\u001B[1;33m.\u001B[0m\u001B[0msetup\u001B[0m\u001B[1;33m(\u001B[0m\u001B[1;33m**\u001B[0m\u001B[0mself\u001B[0m\u001B[1;33m.\u001B[0m\u001B[0m_setup_kwargs\u001B[0m\u001B[1;33m)\u001B[0m\u001B[1;33m\u001B[0m\u001B[1;33m\u001B[0m\u001B[0m\n\u001B[0m\u001B[0;32m    316\u001B[0m         \u001B[0mself\u001B[0m\u001B[1;33m.\u001B[0m\u001B[0mupdate\u001B[0m\u001B[1;33m(\u001B[0m\u001B[1;33m)\u001B[0m\u001B[1;33m\u001B[0m\u001B[1;33m\u001B[0m\u001B[0m\n\u001B[0;32m    317\u001B[0m \u001B[1;33m\u001B[0m\u001B[0m\n",
      "\u001B[1;32m<ipython-input-14-8ef56f2ba088>\u001B[0m in \u001B[0;36msetup\u001B[1;34m(self)\u001B[0m\n\u001B[0;32m     28\u001B[0m             \u001B[0mroad\u001B[0m\u001B[1;33m.\u001B[0m\u001B[0madd_directions\u001B[0m\u001B[1;33m(\u001B[0m\u001B[0mself\u001B[0m\u001B[1;33m.\u001B[0m\u001B[0mcity\u001B[0m\u001B[1;33m.\u001B[0m\u001B[0mgrid\u001B[0m\u001B[1;33m[\u001B[0m\u001B[0mx\u001B[0m\u001B[1;33m]\u001B[0m\u001B[1;33m[\u001B[0m\u001B[0my\u001B[0m\u001B[1;33m]\u001B[0m\u001B[1;33m.\u001B[0m\u001B[0mdirections\u001B[0m\u001B[1;33m)\u001B[0m\u001B[1;33m\u001B[0m\u001B[1;33m\u001B[0m\u001B[0m\n\u001B[0;32m     29\u001B[0m \u001B[1;33m\u001B[0m\u001B[0m\n\u001B[1;32m---> 30\u001B[1;33m         \u001B[0mcars\u001B[0m \u001B[1;33m=\u001B[0m \u001B[0map\u001B[0m\u001B[1;33m.\u001B[0m\u001B[0mAgentList\u001B[0m\u001B[1;33m(\u001B[0m\u001B[0mself\u001B[0m\u001B[1;33m,\u001B[0m \u001B[0mself\u001B[0m\u001B[1;33m.\u001B[0m\u001B[0mn_cars\u001B[0m\u001B[1;33m,\u001B[0m \u001B[0mCarAgent\u001B[0m\u001B[1;33m)\u001B[0m\u001B[1;33m\u001B[0m\u001B[1;33m\u001B[0m\u001B[0m\n\u001B[0m\u001B[0;32m     31\u001B[0m         \u001B[0mself\u001B[0m\u001B[1;33m.\u001B[0m\u001B[0mgrid\u001B[0m\u001B[1;33m.\u001B[0m\u001B[0madd_agents\u001B[0m\u001B[1;33m(\u001B[0m\u001B[0mcars\u001B[0m\u001B[1;33m,\u001B[0m \u001B[0mpositions\u001B[0m\u001B[1;33m=\u001B[0m\u001B[1;33m[\u001B[0m\u001B[0mchoice\u001B[0m\u001B[1;33m(\u001B[0m\u001B[0mself\u001B[0m\u001B[1;33m.\u001B[0m\u001B[0mspawn_points\u001B[0m\u001B[1;33m)\u001B[0m \u001B[1;32mfor\u001B[0m \u001B[0m_\u001B[0m \u001B[1;32min\u001B[0m \u001B[0mrange\u001B[0m\u001B[1;33m(\u001B[0m\u001B[0mself\u001B[0m\u001B[1;33m.\u001B[0m\u001B[0mn_cars\u001B[0m\u001B[1;33m)\u001B[0m\u001B[1;33m]\u001B[0m\u001B[1;33m)\u001B[0m\u001B[1;33m\u001B[0m\u001B[1;33m\u001B[0m\u001B[0m\n\u001B[0;32m     32\u001B[0m \u001B[1;33m\u001B[0m\u001B[0m\n",
      "\u001B[1;32mc:\\users\\liu_k\\appdata\\local\\programs\\python\\python39\\lib\\site-packages\\agentpy\\sequences.py\u001B[0m in \u001B[0;36m__init__\u001B[1;34m(self, model, objs, cls, *args, **kwargs)\u001B[0m\n\u001B[0;32m    257\u001B[0m         \u001B[1;32mif\u001B[0m \u001B[0misinstance\u001B[0m\u001B[1;33m(\u001B[0m\u001B[0mobjs\u001B[0m\u001B[1;33m,\u001B[0m \u001B[0mint\u001B[0m\u001B[1;33m)\u001B[0m\u001B[1;33m:\u001B[0m\u001B[1;33m\u001B[0m\u001B[1;33m\u001B[0m\u001B[0m\n\u001B[0;32m    258\u001B[0m             \u001B[0mobjs\u001B[0m \u001B[1;33m=\u001B[0m \u001B[0mself\u001B[0m\u001B[1;33m.\u001B[0m\u001B[0m_obj_gen\u001B[0m\u001B[1;33m(\u001B[0m\u001B[0mmodel\u001B[0m\u001B[1;33m,\u001B[0m \u001B[0mobjs\u001B[0m\u001B[1;33m,\u001B[0m \u001B[0mcls\u001B[0m\u001B[1;33m,\u001B[0m \u001B[1;33m*\u001B[0m\u001B[0margs\u001B[0m\u001B[1;33m,\u001B[0m \u001B[1;33m**\u001B[0m\u001B[0mkwargs\u001B[0m\u001B[1;33m)\u001B[0m\u001B[1;33m\u001B[0m\u001B[1;33m\u001B[0m\u001B[0m\n\u001B[1;32m--> 259\u001B[1;33m         \u001B[0msuper\u001B[0m\u001B[1;33m(\u001B[0m\u001B[1;33m)\u001B[0m\u001B[1;33m.\u001B[0m\u001B[0m__init__\u001B[0m\u001B[1;33m(\u001B[0m\u001B[0mobjs\u001B[0m\u001B[1;33m)\u001B[0m\u001B[1;33m\u001B[0m\u001B[1;33m\u001B[0m\u001B[0m\n\u001B[0m\u001B[0;32m    260\u001B[0m         \u001B[0msuper\u001B[0m\u001B[1;33m(\u001B[0m\u001B[1;33m)\u001B[0m\u001B[1;33m.\u001B[0m\u001B[0m__setattr__\u001B[0m\u001B[1;33m(\u001B[0m\u001B[1;34m'model'\u001B[0m\u001B[1;33m,\u001B[0m \u001B[0mmodel\u001B[0m\u001B[1;33m)\u001B[0m\u001B[1;33m\u001B[0m\u001B[1;33m\u001B[0m\u001B[0m\n\u001B[0;32m    261\u001B[0m         \u001B[0msuper\u001B[0m\u001B[1;33m(\u001B[0m\u001B[1;33m)\u001B[0m\u001B[1;33m.\u001B[0m\u001B[0m__setattr__\u001B[0m\u001B[1;33m(\u001B[0m\u001B[1;34m'ndim'\u001B[0m\u001B[1;33m,\u001B[0m \u001B[1;36m1\u001B[0m\u001B[1;33m)\u001B[0m\u001B[1;33m\u001B[0m\u001B[1;33m\u001B[0m\u001B[0m\n",
      "\u001B[1;32mc:\\users\\liu_k\\appdata\\local\\programs\\python\\python39\\lib\\site-packages\\agentpy\\sequences.py\u001B[0m in \u001B[0;36m_obj_gen\u001B[1;34m(model, n, cls, *args, **kwargs)\u001B[0m\n\u001B[0;32m     46\u001B[0m             i_kwargs = {k: arg[i] if isinstance(arg, AttrIter) else arg\n\u001B[0;32m     47\u001B[0m                         for k, arg in kwargs.items()}\n\u001B[1;32m---> 48\u001B[1;33m             \u001B[1;32myield\u001B[0m \u001B[0mcls\u001B[0m\u001B[1;33m(\u001B[0m\u001B[0mmodel\u001B[0m\u001B[1;33m,\u001B[0m \u001B[1;33m**\u001B[0m\u001B[0mi_kwargs\u001B[0m\u001B[1;33m)\u001B[0m\u001B[1;33m\u001B[0m\u001B[1;33m\u001B[0m\u001B[0m\n\u001B[0m\u001B[0;32m     49\u001B[0m \u001B[1;33m\u001B[0m\u001B[0m\n\u001B[0;32m     50\u001B[0m \u001B[1;33m\u001B[0m\u001B[0m\n",
      "\u001B[1;31mTypeError\u001B[0m: 'module' object is not callable"
     ]
    },
    {
     "data": {
      "text/plain": "<Figure size 432x288 with 1 Axes>",
      "image/png": "[encoded data removed]"
     },
     "metadata": {
      "needs_background": "light"
     },
     "output_type": "display_data"
    }
   ],
   "source": [
    "# Create single-run animation with custom colors\n",
    "\n",
    "\n",
    "def map_agent_to_number(agents: ap.AgentIter):\n",
    "    agent: ap.Agent\n",
    "    road_exists = False\n",
    "    for agent in agents:\n",
    "        if agent.type is CarAgent:\n",
    "            return 1\n",
    "        if agent.type is RoadAgent:\n",
    "            road_exists = True\n",
    "    if road_exists:  # There is road and no cars\n",
    "        return 0\n",
    "    return None  # There are no agents in that position\n",
    "\n",
    "\n",
    "def animation_plot(model, ax):\n",
    "    attr_grid = model.city.apply(map_agent_to_number)\n",
    "    color_dict = {0: '#7777', 1: '#d62c2c', 2: '#e5e5e5', None: '#d5e5d5'}\n",
    "    ap.gridplot(attr_grid, color_dict, True, ax)\n",
    "    ax.set_title(f\"Simulation of a city\\n\"\n",
    "                 f\"Time-step: {model.t}\")\n",
    "\n",
    "\n",
    "fig, ax = plt.subplots()\n",
    "city_model = CityModel(parameters)\n",
    "animation = ap.animate(city_model, fig, ax, animation_plot)\n",
    "IPython.display.HTML(animation.to_jshtml(fps=15))"
   ]
  }
 ],
 "metadata": {
  "interpreter": {
   "hash": "76456c7cbf9365bafbb384226fda8427e843b47cf7bde78be0b8fb17387bbdce"
  },
  "kernelspec": {
   "display_name": "Python 3.9.7 64-bit ('multiAgents': conda)",
   "language": "python",
   "name": "python3"
  },
  "language_info": {
   "codemirror_mode": {
    "name": "ipython",
    "version": 3
   },
   "file_extension": ".py",
   "mimetype": "text/x-python",
   "name": "python",
   "nbconvert_exporter": "python",
   "pygments_lexer": "ipython3",
   "version": "3.9.7"
  },
  "orig_nbformat": 4
 },
 "nbformat": 4,
 "nbformat_minor": 2
}